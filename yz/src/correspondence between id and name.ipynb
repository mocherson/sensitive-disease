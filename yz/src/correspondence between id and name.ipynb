{
 "cells": [
  {
   "cell_type": "code",
   "execution_count": 3,
   "metadata": {},
   "outputs": [
    {
     "name": "stderr",
     "output_type": "stream",
     "text": [
      "/usr/lib/python2.7/site-packages/IPython/core/interactiveshell.py:2717: DtypeWarning: Columns (19,27,29,30,31,32,33,35,36) have mixed types. Specify dtype option on import or set low_memory=False.\n",
      "  interactivity=interactivity, compiler=compiler, result=result)\n",
      "/usr/lib/python2.7/site-packages/IPython/core/interactiveshell.py:2717: DtypeWarning: Columns (6) have mixed types. Specify dtype option on import or set low_memory=False.\n",
      "  interactivity=interactivity, compiler=compiler, result=result)\n",
      "/usr/lib/python2.7/site-packages/IPython/core/interactiveshell.py:2717: DtypeWarning: Columns (15) have mixed types. Specify dtype option on import or set low_memory=False.\n",
      "  interactivity=interactivity, compiler=compiler, result=result)\n"
     ]
    }
   ],
   "source": [
    "patient309 = pd.read_csv('../data/sensitive_disease/309_Patient.csv')\n",
    "med309 = pd.read_csv('../data/sensitive_disease/309_Med.csv')\n",
    "lab309 = pd.read_csv('../data/sensitive_disease/309_Lab.csv')\n",
    "procedure309 = pd.read_csv('../data/sensitive_disease/309_Procedure.csv')\n"
   ]
  },
  {
   "cell_type": "code",
   "execution_count": 18,
   "metadata": {},
   "outputs": [
    {
     "name": "stdout",
     "output_type": "stream",
     "text": [
      "mrd_lab_id,lab_nm,count\r\n",
      "1,Serum Amylase,2074\r\n",
      "2,Beta-2-GPI Autoabs,2\r\n",
      "3,Absolute CD3+,826\r\n",
      "4,Urine Nitrites,27082\r\n",
      "5,Histone Semi-Quantitative,202\r\n",
      "11,Estrone Level,5\r\n",
      "13,INTERP,58\r\n",
      "24,Human Papillomavirus High Risk Detector,228\r\n",
      "27,RNP/Sm Quantitative,513\r\n"
     ]
    }
   ],
   "source": [
    "df = pd.DataFrame(lab309.groupby(['mrd_lab_id', 'lab_nm']).size(), columns=['count'])\n",
    "df.to_csv('309_Lab_mrd_lab_id_vs_lab_nm.csv')\n",
    "\n",
    "!head 309_Lab_mrd_lab_id_vs_lab_nm.csv"
   ]
  },
  {
   "cell_type": "code",
   "execution_count": 19,
   "metadata": {},
   "outputs": [
    {
     "name": "stdout",
     "output_type": "stream",
     "text": [
      "mrd_med_id,generic_nm,count\r\n",
      "2,abacavir,15\r\n",
      "3,Acebutolol,22\r\n",
      "21,Acetaminophen/Dextromethorphan/Phenylephrine,1\r\n",
      "28,Acetaminophen/pamabrom,1\r\n",
      "29,Acetaminophen/Phenylephrine,4\r\n",
      "31,Acetaminophen/Propoxyphene,110\r\n",
      "47,aflibercept,151\r\n",
      "51,alcaftadine,3\r\n",
      "52,Alclometasone,124\r\n"
     ]
    }
   ],
   "source": [
    "df = pd.DataFrame(med309.groupby(['mrd_med_id', 'generic_nm']).size(), columns=['count'])\n",
    "df.to_csv('309_Med_mrd_med_id_vs_generic_nm.csv')\n",
    "\n",
    "!head 309_Med_mrd_med_id_vs_generic_nm.csv"
   ]
  },
  {
   "cell_type": "code",
   "execution_count": 21,
   "metadata": {},
   "outputs": [
    {
     "name": "stdout",
     "output_type": "stream",
     "text": [
      "order_cpt_cd,order_nm,count\r\n",
      "000000,SCHED PACEMAKER CHECK,1\r\n",
      "0000000,CARDIAC CATHETERIZATION,195\r\n",
      "0000000,URINARY CATHETER REMOVAL,262\r\n",
      "00001,ALPROSTADIL FOR INJECTION,2\r\n",
      "00002,ENDOVENOUS LASER VEIN ADDON,1\r\n",
      "00005,\"STORAGE, SPERM\",11\r\n",
      "00008,ADMIN INFLUENZA VIRUS VAC,33\r\n",
      "00009,\"BILATERAL NASAL/SINUS ENDOSCOPY,BX/DEBRID\",4\r\n",
      "00013,BIOMETRY - NON-SURGICAL EYE,145\r\n"
     ]
    }
   ],
   "source": [
    "df = procedure309[procedure309['order_type_desc'] != 'LAB']\n",
    "\n",
    "df = pd.DataFrame(df.groupby(['order_cpt_cd', 'order_nm']).size(), columns=['count'])\n",
    "df.to_csv('309_Procedure_order_cpt_cd_vs_order_nm.csv')\n",
    "\n",
    "!head 309_Procedure_order_cpt_cd_vs_order_nm.csv"
   ]
  },
  {
   "cell_type": "code",
   "execution_count": 5,
   "metadata": {},
   "outputs": [
    {
     "name": "stdout",
     "output_type": "stream",
     "text": [
      "ls: cannot access *.csv: No such file or directory\r\n"
     ]
    }
   ],
   "source": [
    "!ls *.csv"
   ]
  },
  {
   "cell_type": "code",
   "execution_count": 4,
   "metadata": {},
   "outputs": [
    {
     "name": "stdout",
     "output_type": "stream",
     "text": [
      "309_Lab_mrd_lab_id_vs_lab_nm.csv\r\n",
      "309_Med_mrd_med_id_vs_generic_nm.csv\r\n",
      "309_Procedure_order_cpt_cd_vs_order_nm.csv\r\n"
     ]
    }
   ],
   "source": [
    "!ls ../data/sensitive_disease/yz/"
   ]
  },
  {
   "cell_type": "code",
   "execution_count": 3,
   "metadata": {
    "collapsed": true
   },
   "outputs": [],
   "source": [
    "!mv *.csv ../data/sensitive_disease/yz/"
   ]
  }
 ],
 "metadata": {
  "kernelspec": {
   "display_name": "Python 2",
   "language": "python",
   "name": "python2"
  },
  "language_info": {
   "codemirror_mode": {
    "name": "ipython",
    "version": 2
   },
   "file_extension": ".py",
   "mimetype": "text/x-python",
   "name": "python",
   "nbconvert_exporter": "python",
   "pygments_lexer": "ipython2",
   "version": "2.7.5"
  }
 },
 "nbformat": 4,
 "nbformat_minor": 2
}
