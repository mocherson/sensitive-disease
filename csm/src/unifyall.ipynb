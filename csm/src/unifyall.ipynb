{
 "cells": [
  {
   "cell_type": "code",
   "execution_count": 2,
   "metadata": {
    "collapsed": true
   },
   "outputs": [],
   "source": [
    "from SD import *\n",
    "cases=[257, 294, 296, 300, 303, 305, 307, 309, 311, 607, 608, 616, 623, 626, 628, 632, 640, 642, 644, 646, 648, 650, 652, 654, 655, 656, 658, 659, 661, 663, 664, 669, 765, 770, 774, 779]\n",
    "ctr='ctrl_dx_match'\n",
    "path='/home/data/sensitive_disease/csm/'"
   ]
  },
  {
   "cell_type": "code",
   "execution_count": 3,
   "metadata": {
    "collapsed": true
   },
   "outputs": [],
   "source": [
    "# generate name set\n",
    "from SD import *\n",
    "def gennm(case):\n",
    "    print 'processing',case\n",
    "    sd=Sens_disease(case)\n",
    "    sd.load()\n",
    "    sd.get_persons()\n",
    "    sd.add_alt_nm(ifallmapping=True)\n",
    "    sd.generate_nm()\n",
    "    print case,'done'"
   ]
  },
  {
   "cell_type": "code",
   "execution_count": 6,
   "metadata": {
    "collapsed": true
   },
   "outputs": [
    {
     "name": "stdout",
     "output_type": "stream",
     "text": [
      "Parent process 123070.\n",
      "processing 257\n",
      "processing 294\n",
      "processing 296\n",
      "processing 650\n",
      "processing 608\n",
      "processing 305\n",
      "processing 307\n",
      "processing 623\n",
      "processing 632\n",
      "processing 309\n",
      "processing 607\n",
      "processing 655\n",
      "processing 303\n",
      "processing 300\n",
      "processing 652\n",
      "processing 616\n",
      "processing 654\n",
      "processing 658\n",
      "processing 642\n",
      "processing 663\n",
      "processing 628\n",
      "processing 640\n",
      "processing 311\n",
      "processing 659\n",
      "processing 626\n",
      "processing 661\n",
      "processing 656\n",
      "processing 669\n",
      "processing 774\n",
      "processing 646\n",
      "processing 664\n",
      "processing 648\n",
      "processing 644\n",
      "processing 765\n",
      "processing 779\n",
      "processing 770\n"
     ]
    },
    {
     "name": "stderr",
     "output_type": "stream",
     "text": [
      "/usr/lib64/python2.7/multiprocessing/process.py:114: DtypeWarning: Columns (15) have mixed types. Specify dtype option on import or set low_memory=False.\n",
      "  self._target(*self._args, **self._kwargs)\n",
      "/usr/lib64/python2.7/multiprocessing/process.py:114: DtypeWarning: Columns (6,19,26,29,30,31,32,33,35,36,38) have mixed types. Specify dtype option on import or set low_memory=False.\n",
      "  self._target(*self._args, **self._kwargs)\n"
     ]
    },
    {
     "name": "stdout",
     "output_type": "stream",
     "text": [
      "numeber of original patients: 6012\n",
      "original lab data size: (326247, 29)\n",
      "original procedure data size: (366021, 25)\n",
      "original med data size: (154358, 49)\n"
     ]
    },
    {
     "name": "stderr",
     "output_type": "stream",
     "text": [
      "/usr/lib64/python2.7/multiprocessing/process.py:114: DtypeWarning: Columns (6) have mixed types. Specify dtype option on import or set low_memory=False.\n",
      "  self._target(*self._args, **self._kwargs)\n",
      "/usr/lib64/python2.7/multiprocessing/process.py:114: DtypeWarning: Columns (15) have mixed types. Specify dtype option on import or set low_memory=False.\n",
      "  self._target(*self._args, **self._kwargs)\n"
     ]
    },
    {
     "name": "stdout",
     "output_type": "stream",
     "text": [
      "770 done\n"
     ]
    },
    {
     "name": "stderr",
     "output_type": "stream",
     "text": [
      "/usr/lib64/python2.7/multiprocessing/process.py:114: DtypeWarning: Columns (6) have mixed types. Specify dtype option on import or set low_memory=False.\n",
      "  self._target(*self._args, **self._kwargs)\n",
      "/usr/lib64/python2.7/multiprocessing/process.py:114: DtypeWarning: Columns (6) have mixed types. Specify dtype option on import or set low_memory=False.\n",
      "  self._target(*self._args, **self._kwargs)\n",
      "/usr/lib64/python2.7/multiprocessing/process.py:114: DtypeWarning: Columns (6,19,26,29,30,31,32,33,35,36,38) have mixed types. Specify dtype option on import or set low_memory=False.\n",
      "  self._target(*self._args, **self._kwargs)\n"
     ]
    },
    {
     "name": "stdout",
     "output_type": "stream",
     "text": [
      "numeber of original patients: 6193\n",
      "original lab data size: (1784821, 29)\n",
      "original procedure data size: (324880, 25)\n",
      "original med data size: (137306, 49)\n"
     ]
    },
    {
     "name": "stderr",
     "output_type": "stream",
     "text": [
      "/usr/lib64/python2.7/multiprocessing/process.py:114: DtypeWarning: Columns (6) have mixed types. Specify dtype option on import or set low_memory=False.\n",
      "  self._target(*self._args, **self._kwargs)\n",
      "/usr/lib64/python2.7/multiprocessing/process.py:114: DtypeWarning: Columns (15) have mixed types. Specify dtype option on import or set low_memory=False.\n",
      "  self._target(*self._args, **self._kwargs)\n",
      "/usr/lib64/python2.7/multiprocessing/process.py:114: DtypeWarning: Columns (6) have mixed types. Specify dtype option on import or set low_memory=False.\n",
      "  self._target(*self._args, **self._kwargs)\n",
      "/usr/lib64/python2.7/multiprocessing/process.py:114: DtypeWarning: Columns (6) have mixed types. Specify dtype option on import or set low_memory=False.\n",
      "  self._target(*self._args, **self._kwargs)\n",
      "/usr/lib64/python2.7/multiprocessing/process.py:114: DtypeWarning: Columns (6) have mixed types. Specify dtype option on import or set low_memory=False.\n",
      "  self._target(*self._args, **self._kwargs)\n",
      "/usr/lib64/python2.7/multiprocessing/process.py:114: DtypeWarning: Columns (6,26,27,29,30,31,32,33,35,36,38) have mixed types. Specify dtype option on import or set low_memory=False.\n",
      "  self._target(*self._args, **self._kwargs)\n"
     ]
    },
    {
     "name": "stdout",
     "output_type": "stream",
     "text": [
      "numeber of original patients: 10026\n",
      "original lab data size: (2225000, 29)\n",
      "original procedure data size: (432722, 25)\n",
      "original med data size: (214127, 49)\n"
     ]
    },
    {
     "name": "stderr",
     "output_type": "stream",
     "text": [
      "/usr/lib64/python2.7/multiprocessing/process.py:114: DtypeWarning: Columns (6) have mixed types. Specify dtype option on import or set low_memory=False.\n",
      "  self._target(*self._args, **self._kwargs)\n",
      "/usr/lib64/python2.7/multiprocessing/process.py:114: DtypeWarning: Columns (6) have mixed types. Specify dtype option on import or set low_memory=False.\n",
      "  self._target(*self._args, **self._kwargs)\n",
      "/usr/lib64/python2.7/multiprocessing/process.py:114: DtypeWarning: Columns (15) have mixed types. Specify dtype option on import or set low_memory=False.\n",
      "  self._target(*self._args, **self._kwargs)\n",
      "/usr/lib64/python2.7/multiprocessing/process.py:114: DtypeWarning: Columns (6) have mixed types. Specify dtype option on import or set low_memory=False.\n",
      "  self._target(*self._args, **self._kwargs)\n",
      "/usr/lib64/python2.7/multiprocessing/process.py:114: DtypeWarning: Columns (6) have mixed types. Specify dtype option on import or set low_memory=False.\n",
      "  self._target(*self._args, **self._kwargs)\n",
      "/usr/lib64/python2.7/multiprocessing/process.py:114: DtypeWarning: Columns (6) have mixed types. Specify dtype option on import or set low_memory=False.\n",
      "  self._target(*self._args, **self._kwargs)\n",
      "/usr/lib64/python2.7/multiprocessing/process.py:114: DtypeWarning: Columns (6,26,27,29,30,31,32,33,35,36,38) have mixed types. Specify dtype option on import or set low_memory=False.\n",
      "  self._target(*self._args, **self._kwargs)\n"
     ]
    },
    {
     "name": "stdout",
     "output_type": "stream",
     "text": [
      "numeber of original patients: 7881\n",
      "original lab data size: (2143856, 29)\n",
      "original procedure data size: (387117, 25)\n",
      "original med data size: (157502, 49)\n"
     ]
    },
    {
     "name": "stderr",
     "output_type": "stream",
     "text": [
      "/usr/lib64/python2.7/multiprocessing/process.py:114: DtypeWarning: Columns (19,27,31,35) have mixed types. Specify dtype option on import or set low_memory=False.\n",
      "  self._target(*self._args, **self._kwargs)\n"
     ]
    },
    {
     "name": "stdout",
     "output_type": "stream",
     "text": [
      "numeber of original patients: 5563\n",
      "original lab data size: (2780569, 29)\n",
      "original procedure data size: (621683, 25)\n",
      "original med data size: (515426, 49)\n"
     ]
    },
    {
     "name": "stderr",
     "output_type": "stream",
     "text": [
      "/usr/lib64/python2.7/multiprocessing/process.py:114: DtypeWarning: Columns (6) have mixed types. Specify dtype option on import or set low_memory=False.\n",
      "  self._target(*self._args, **self._kwargs)\n",
      "/usr/lib64/python2.7/multiprocessing/process.py:114: DtypeWarning: Columns (19,27,31,35) have mixed types. Specify dtype option on import or set low_memory=False.\n",
      "  self._target(*self._args, **self._kwargs)\n"
     ]
    },
    {
     "name": "stdout",
     "output_type": "stream",
     "text": [
      "numeber of original patients: 5582\n",
      "original lab data size: (3184450, 29)\n",
      "original procedure data size: (633540, 25)\n",
      "original med data size: (474672, 49)\n"
     ]
    },
    {
     "name": "stderr",
     "output_type": "stream",
     "text": [
      "/usr/lib64/python2.7/multiprocessing/process.py:114: DtypeWarning: Columns (6,19,26,27,29,30,31,32,33,35,36,38) have mixed types. Specify dtype option on import or set low_memory=False.\n",
      "  self._target(*self._args, **self._kwargs)\n",
      "/usr/lib64/python2.7/multiprocessing/process.py:114: DtypeWarning: Columns (6) have mixed types. Specify dtype option on import or set low_memory=False.\n",
      "  self._target(*self._args, **self._kwargs)\n"
     ]
    },
    {
     "name": "stdout",
     "output_type": "stream",
     "text": [
      "numeber of original patients: 5660\n",
      "original lab data size: (3829868, 29)\n",
      "original procedure data size: (711782, 25)\n",
      "original med data size: (601701, 49)\n",
      "774 done\n"
     ]
    },
    {
     "name": "stderr",
     "output_type": "stream",
     "text": [
      "/usr/lib64/python2.7/multiprocessing/process.py:114: DtypeWarning: Columns (6) have mixed types. Specify dtype option on import or set low_memory=False.\n",
      "  self._target(*self._args, **self._kwargs)\n",
      "/usr/lib64/python2.7/multiprocessing/process.py:114: DtypeWarning: Columns (6) have mixed types. Specify dtype option on import or set low_memory=False.\n",
      "  self._target(*self._args, **self._kwargs)\n"
     ]
    },
    {
     "name": "stdout",
     "output_type": "stream",
     "text": [
      "779 done\n"
     ]
    },
    {
     "name": "stderr",
     "output_type": "stream",
     "text": [
      "/usr/lib64/python2.7/multiprocessing/process.py:114: DtypeWarning: Columns (6) have mixed types. Specify dtype option on import or set low_memory=False.\n",
      "  self._target(*self._args, **self._kwargs)\n",
      "/usr/lib64/python2.7/multiprocessing/process.py:114: DtypeWarning: Columns (6) have mixed types. Specify dtype option on import or set low_memory=False.\n",
      "  self._target(*self._args, **self._kwargs)\n",
      "/usr/lib64/python2.7/multiprocessing/process.py:114: DtypeWarning: Columns (6) have mixed types. Specify dtype option on import or set low_memory=False.\n",
      "  self._target(*self._args, **self._kwargs)\n",
      "/usr/lib64/python2.7/multiprocessing/process.py:114: DtypeWarning: Columns (6,19,26,27,29,30,31,32,33,35,36,38) have mixed types. Specify dtype option on import or set low_memory=False.\n",
      "  self._target(*self._args, **self._kwargs)\n"
     ]
    },
    {
     "name": "stdout",
     "output_type": "stream",
     "text": [
      "numeber of original patients: 7082\n",
      "original lab data size: (3382619, 29)\n",
      "original procedure data size: (646540, 25)\n",
      "original med data size: (778613, 49)\n"
     ]
    },
    {
     "name": "stderr",
     "output_type": "stream",
     "text": [
      "/usr/lib64/python2.7/multiprocessing/process.py:114: DtypeWarning: Columns (6) have mixed types. Specify dtype option on import or set low_memory=False.\n",
      "  self._target(*self._args, **self._kwargs)\n",
      "/usr/lib64/python2.7/multiprocessing/process.py:114: DtypeWarning: Columns (19,27,31,32,33,35,36) have mixed types. Specify dtype option on import or set low_memory=False.\n",
      "  self._target(*self._args, **self._kwargs)\n"
     ]
    },
    {
     "name": "stdout",
     "output_type": "stream",
     "text": [
      "numeber of original patients: 7478\n",
      "original lab data size: (2786792, 29)\n",
      "original procedure data size: (519875, 25)\n",
      "original med data size: (536656, 49)\n"
     ]
    },
    {
     "name": "stderr",
     "output_type": "stream",
     "text": [
      "/usr/lib64/python2.7/multiprocessing/process.py:114: DtypeWarning: Columns (19,27,31,32,33,35,36,38) have mixed types. Specify dtype option on import or set low_memory=False.\n",
      "  self._target(*self._args, **self._kwargs)\n"
     ]
    },
    {
     "name": "stdout",
     "output_type": "stream",
     "text": [
      "numeber of original patients: 5772\n",
      "original lab data size: (2662996, 29)\n",
      "original procedure data size: (496869, 25)\n",
      "original med data size: (652041, 49)\n"
     ]
    },
    {
     "name": "stderr",
     "output_type": "stream",
     "text": [
      "/usr/lib64/python2.7/multiprocessing/process.py:114: DtypeWarning: Columns (19,27,31,35,36,38) have mixed types. Specify dtype option on import or set low_memory=False.\n",
      "  self._target(*self._args, **self._kwargs)\n",
      "/usr/lib64/python2.7/multiprocessing/process.py:114: DtypeWarning: Columns (19,27,31,32,33,35,36,38) have mixed types. Specify dtype option on import or set low_memory=False.\n",
      "  self._target(*self._args, **self._kwargs)\n"
     ]
    },
    {
     "name": "stdout",
     "output_type": "stream",
     "text": [
      "numeber of original patients: 8214\n",
      "original lab data size: (3645847, 29)\n",
      "original procedure data size: (675037, 25)\n",
      "original med data size: (767532, 49)\n",
      "numeber of original patients: 10000\n",
      "original lab data size: (3802558, 29)\n",
      "original procedure data size: (701792, 25)\n",
      "original med data size: (724418, 49)\n"
     ]
    },
    {
     "name": "stderr",
     "output_type": "stream",
     "text": [
      "/usr/lib64/python2.7/multiprocessing/process.py:114: DtypeWarning: Columns (19,27,31,35) have mixed types. Specify dtype option on import or set low_memory=False.\n",
      "  self._target(*self._args, **self._kwargs)\n"
     ]
    },
    {
     "name": "stdout",
     "output_type": "stream",
     "text": [
      "numeber of original patients: 8234\n",
      "original lab data size: (4074360, 29)\n",
      "original procedure data size: (1023240, 25)\n",
      "original med data size: (654566, 49)\n",
      "765 done\n"
     ]
    },
    {
     "name": "stderr",
     "output_type": "stream",
     "text": [
      "/usr/lib64/python2.7/multiprocessing/process.py:114: DtypeWarning: Columns (19,27,31,32,33,35,36,38) have mixed types. Specify dtype option on import or set low_memory=False.\n",
      "  self._target(*self._args, **self._kwargs)\n"
     ]
    },
    {
     "name": "stdout",
     "output_type": "stream",
     "text": [
      "numeber of original patients: 9292\n",
      "original lab data size: (5045764, 29)\n",
      "original procedure data size: (873988, 25)\n",
      "original med data size: (888171, 49)\n"
     ]
    },
    {
     "name": "stderr",
     "output_type": "stream",
     "text": [
      "/usr/lib64/python2.7/multiprocessing/process.py:114: DtypeWarning: Columns (19,27,29,30,31,35) have mixed types. Specify dtype option on import or set low_memory=False.\n",
      "  self._target(*self._args, **self._kwargs)\n"
     ]
    },
    {
     "name": "stdout",
     "output_type": "stream",
     "text": [
      "numeber of original patients: 6533\n",
      "original lab data size: (3321698, 29)\n",
      "original procedure data size: (685427, 25)\n",
      "original med data size: (605337, 49)\n"
     ]
    },
    {
     "name": "stderr",
     "output_type": "stream",
     "text": [
      "/usr/lib64/python2.7/multiprocessing/process.py:114: DtypeWarning: Columns (6) have mixed types. Specify dtype option on import or set low_memory=False.\n",
      "  self._target(*self._args, **self._kwargs)\n",
      "/usr/lib64/python2.7/multiprocessing/process.py:114: DtypeWarning: Columns (19,27,31,32,33,35,36,38) have mixed types. Specify dtype option on import or set low_memory=False.\n",
      "  self._target(*self._args, **self._kwargs)\n",
      "/usr/lib64/python2.7/multiprocessing/process.py:114: DtypeWarning: Columns (6) have mixed types. Specify dtype option on import or set low_memory=False.\n",
      "  self._target(*self._args, **self._kwargs)\n",
      "/usr/lib64/python2.7/multiprocessing/process.py:114: DtypeWarning: Columns (6) have mixed types. Specify dtype option on import or set low_memory=False.\n",
      "  self._target(*self._args, **self._kwargs)\n"
     ]
    },
    {
     "name": "stdout",
     "output_type": "stream",
     "text": [
      "numeber of original patients: 10000\n",
      "original lab data size: (4924744, 29)\n",
      "original procedure data size: (908952, 25)\n",
      "original med data size: (933089, 49)\n"
     ]
    },
    {
     "name": "stderr",
     "output_type": "stream",
     "text": [
      "/usr/lib64/python2.7/multiprocessing/process.py:114: DtypeWarning: Columns (19,27,31,35,38) have mixed types. Specify dtype option on import or set low_memory=False.\n",
      "  self._target(*self._args, **self._kwargs)\n"
     ]
    },
    {
     "name": "stdout",
     "output_type": "stream",
     "text": [
      "numeber of original patients: 8249\n",
      "original lab data size: (5129566, 29)\n",
      "original procedure data size: (910971, 25)\n",
      "original med data size: (768673, 49)\n",
      "632 done\n"
     ]
    },
    {
     "name": "stderr",
     "output_type": "stream",
     "text": [
      "/usr/lib64/python2.7/multiprocessing/process.py:114: DtypeWarning: Columns (19,27,29,30,31,32,33,35,36,38) have mixed types. Specify dtype option on import or set low_memory=False.\n",
      "  self._target(*self._args, **self._kwargs)\n",
      "/usr/lib64/python2.7/multiprocessing/process.py:114: DtypeWarning: Columns (19,27,31,32,33,35,36) have mixed types. Specify dtype option on import or set low_memory=False.\n",
      "  self._target(*self._args, **self._kwargs)\n"
     ]
    },
    {
     "name": "stdout",
     "output_type": "stream",
     "text": [
      "numeber of original patients: 11913\n",
      "original lab data size: (4939912, 29)\n",
      "original procedure data size: (905519, 25)\n",
      "original med data size: (1026260, 49)\n",
      "numeber of original patients: 10434\n",
      "original lab data size: (5154351, 29)\n",
      "original procedure data size: (1033669, 25)\n",
      "original med data size: (963551, 49)\n"
     ]
    },
    {
     "name": "stderr",
     "output_type": "stream",
     "text": [
      "/usr/lib64/python2.7/multiprocessing/process.py:114: DtypeWarning: Columns (6) have mixed types. Specify dtype option on import or set low_memory=False.\n",
      "  self._target(*self._args, **self._kwargs)\n",
      "/usr/lib64/python2.7/multiprocessing/process.py:114: DtypeWarning: Columns (15) have mixed types. Specify dtype option on import or set low_memory=False.\n",
      "  self._target(*self._args, **self._kwargs)\n",
      "/usr/lib64/python2.7/multiprocessing/process.py:114: DtypeWarning: Columns (19,27,31,35,38) have mixed types. Specify dtype option on import or set low_memory=False.\n",
      "  self._target(*self._args, **self._kwargs)\n"
     ]
    },
    {
     "name": "stdout",
     "output_type": "stream",
     "text": [
      "numeber of original patients: 10000\n",
      "original lab data size: (4676348, 29)\n",
      "original procedure data size: (902088, 25)\n",
      "original med data size: (953900, 49)\n",
      "664 done\n"
     ]
    },
    {
     "name": "stderr",
     "output_type": "stream",
     "text": [
      "/usr/lib64/python2.7/multiprocessing/process.py:114: DtypeWarning: Columns (6) have mixed types. Specify dtype option on import or set low_memory=False.\n",
      "  self._target(*self._args, **self._kwargs)\n",
      "/usr/lib64/python2.7/multiprocessing/process.py:114: DtypeWarning: Columns (19,27,29,30,31,32,33,35,36,38) have mixed types. Specify dtype option on import or set low_memory=False.\n",
      "  self._target(*self._args, **self._kwargs)\n",
      "/usr/lib64/python2.7/multiprocessing/process.py:114: DtypeWarning: Columns (6) have mixed types. Specify dtype option on import or set low_memory=False.\n",
      "  self._target(*self._args, **self._kwargs)\n"
     ]
    },
    {
     "name": "stdout",
     "output_type": "stream",
     "text": [
      "numeber of original patients: 11774\n",
      "original lab data size: (6558378, 29)\n",
      "original procedure data size: (1237067, 25)\n",
      "original med data size: (1328908, 49)\n",
      "661 done\n",
      "658 done\n"
     ]
    },
    {
     "name": "stderr",
     "output_type": "stream",
     "text": [
      "/usr/lib64/python2.7/multiprocessing/process.py:114: DtypeWarning: Columns (19,27,29,30,31,32,33,35,36,38) have mixed types. Specify dtype option on import or set low_memory=False.\n",
      "  self._target(*self._args, **self._kwargs)\n"
     ]
    },
    {
     "name": "stdout",
     "output_type": "stream",
     "text": [
      "numeber of original patients: 5155\n",
      "original lab data size: (7704639, 29)\n",
      "original procedure data size: (1165361, 25)\n",
      "original med data size: (746367, 49)\n"
     ]
    },
    {
     "name": "stderr",
     "output_type": "stream",
     "text": [
      "/usr/lib64/python2.7/multiprocessing/process.py:114: DtypeWarning: Columns (6) have mixed types. Specify dtype option on import or set low_memory=False.\n",
      "  self._target(*self._args, **self._kwargs)\n",
      "/usr/lib64/python2.7/multiprocessing/process.py:114: DtypeWarning: Columns (19,27,31,32,33,35,36) have mixed types. Specify dtype option on import or set low_memory=False.\n",
      "  self._target(*self._args, **self._kwargs)\n"
     ]
    },
    {
     "name": "stdout",
     "output_type": "stream",
     "text": [
      "numeber of original patients: 5742\n",
      "original lab data size: (8200956, 29)\n",
      "original procedure data size: (1449416, 25)\n",
      "original med data size: (814549, 49)\n",
      "652 done\n",
      "640 done\n"
     ]
    },
    {
     "name": "stderr",
     "output_type": "stream",
     "text": [
      "/usr/lib64/python2.7/multiprocessing/process.py:114: DtypeWarning: Columns (19,27,31,35) have mixed types. Specify dtype option on import or set low_memory=False.\n",
      "  self._target(*self._args, **self._kwargs)\n"
     ]
    },
    {
     "name": "stdout",
     "output_type": "stream",
     "text": [
      "numeber of original patients: 11628\n",
      "original lab data size: (9766122, 29)\n",
      "original procedure data size: (1740157, 25)\n",
      "original med data size: (1185516, 49)\n",
      "628 done\n",
      "642 done\n",
      "650 done\n",
      "656 done\n",
      "644 done\n"
     ]
    },
    {
     "name": "stderr",
     "output_type": "stream",
     "text": [
      "/usr/lib64/python2.7/multiprocessing/process.py:114: DtypeWarning: Columns (6) have mixed types. Specify dtype option on import or set low_memory=False.\n",
      "  self._target(*self._args, **self._kwargs)\n"
     ]
    },
    {
     "name": "stdout",
     "output_type": "stream",
     "text": [
      "648 done\n"
     ]
    },
    {
     "name": "stderr",
     "output_type": "stream",
     "text": [
      "/usr/lib64/python2.7/multiprocessing/process.py:114: DtypeWarning: Columns (6) have mixed types. Specify dtype option on import or set low_memory=False.\n",
      "  self._target(*self._args, **self._kwargs)\n",
      "/usr/lib64/python2.7/multiprocessing/process.py:114: DtypeWarning: Columns (15) have mixed types. Specify dtype option on import or set low_memory=False.\n",
      "  self._target(*self._args, **self._kwargs)\n"
     ]
    },
    {
     "name": "stdout",
     "output_type": "stream",
     "text": [
      "663 done\n"
     ]
    },
    {
     "name": "stderr",
     "output_type": "stream",
     "text": [
      "/usr/lib64/python2.7/multiprocessing/process.py:114: DtypeWarning: Columns (19,27,29,30,31,32,33,35,36,38) have mixed types. Specify dtype option on import or set low_memory=False.\n",
      "  self._target(*self._args, **self._kwargs)\n"
     ]
    },
    {
     "name": "stdout",
     "output_type": "stream",
     "text": [
      "646 done\n",
      "numeber of original patients: 10173\n",
      "original lab data size: (9371637, 29)\n",
      "original procedure data size: (1534005, 25)\n",
      "original med data size: (1098129, 49)\n"
     ]
    },
    {
     "name": "stderr",
     "output_type": "stream",
     "text": [
      "/usr/lib64/python2.7/multiprocessing/process.py:114: DtypeWarning: Columns (15) have mixed types. Specify dtype option on import or set low_memory=False.\n",
      "  self._target(*self._args, **self._kwargs)\n",
      "/usr/lib64/python2.7/multiprocessing/process.py:114: DtypeWarning: Columns (6) have mixed types. Specify dtype option on import or set low_memory=False.\n",
      "  self._target(*self._args, **self._kwargs)\n",
      "/usr/lib64/python2.7/multiprocessing/process.py:114: DtypeWarning: Columns (6) have mixed types. Specify dtype option on import or set low_memory=False.\n",
      "  self._target(*self._args, **self._kwargs)\n",
      "/usr/lib64/python2.7/multiprocessing/process.py:114: DtypeWarning: Columns (19,27,31,35) have mixed types. Specify dtype option on import or set low_memory=False.\n",
      "  self._target(*self._args, **self._kwargs)\n",
      "/usr/lib64/python2.7/multiprocessing/process.py:114: DtypeWarning: Columns (6) have mixed types. Specify dtype option on import or set low_memory=False.\n",
      "  self._target(*self._args, **self._kwargs)\n"
     ]
    },
    {
     "name": "stdout",
     "output_type": "stream",
     "text": [
      "numeber of original patients: 7223\n",
      "original lab data size: (11234501, 29)\n",
      "original procedure data size: (1860204, 25)\n",
      "original med data size: (1285568, 49)\n",
      "655 done\n",
      "659 done\n"
     ]
    },
    {
     "name": "stderr",
     "output_type": "stream",
     "text": [
      "/usr/lib64/python2.7/multiprocessing/process.py:114: DtypeWarning: Columns (6) have mixed types. Specify dtype option on import or set low_memory=False.\n",
      "  self._target(*self._args, **self._kwargs)\n",
      "/usr/lib64/python2.7/multiprocessing/process.py:114: DtypeWarning: Columns (19,27,29,30,31,32,33,35,36,38) have mixed types. Specify dtype option on import or set low_memory=False.\n",
      "  self._target(*self._args, **self._kwargs)\n"
     ]
    },
    {
     "name": "stdout",
     "output_type": "stream",
     "text": [
      "numeber of original patients: 17820\n",
      "original lab data size: (8673055, 29)\n",
      "original procedure data size: (1589597, 25)\n",
      "original med data size: (2073038, 49)\n"
     ]
    },
    {
     "name": "stderr",
     "output_type": "stream",
     "text": [
      "/usr/lib64/python2.7/multiprocessing/process.py:114: DtypeWarning: Columns (6) have mixed types. Specify dtype option on import or set low_memory=False.\n",
      "  self._target(*self._args, **self._kwargs)\n",
      "/usr/lib64/python2.7/multiprocessing/process.py:114: DtypeWarning: Columns (19,27,31,32,33,35,36) have mixed types. Specify dtype option on import or set low_memory=False.\n",
      "  self._target(*self._args, **self._kwargs)\n",
      "/usr/lib64/python2.7/multiprocessing/process.py:114: DtypeWarning: Columns (19,27,29,30,31,32,33,35,36) have mixed types. Specify dtype option on import or set low_memory=False.\n",
      "  self._target(*self._args, **self._kwargs)\n"
     ]
    },
    {
     "name": "stdout",
     "output_type": "stream",
     "text": [
      "numeber of original patients: 9027\n",
      "original lab data size: (9850972, 29)\n",
      "original procedure data size: (1608700, 25)\n",
      "original med data size: (923236, 49)\n",
      "numeber of original patients: 8586\n",
      "original lab data size: (13429214, 29)\n",
      "original procedure data size: (2255349, 25)\n",
      "original med data size: (1525585, 49)\n",
      "654 done\n"
     ]
    },
    {
     "name": "stderr",
     "output_type": "stream",
     "text": [
      "/usr/lib64/python2.7/multiprocessing/process.py:114: DtypeWarning: Columns (15) have mixed types. Specify dtype option on import or set low_memory=False.\n",
      "  self._target(*self._args, **self._kwargs)\n",
      "/usr/lib64/python2.7/multiprocessing/process.py:114: DtypeWarning: Columns (19,27,31,32,33,35,36) have mixed types. Specify dtype option on import or set low_memory=False.\n",
      "  self._target(*self._args, **self._kwargs)\n"
     ]
    },
    {
     "name": "stdout",
     "output_type": "stream",
     "text": [
      "numeber of original patients: 14497\n",
      "original lab data size: (13223133, 29)\n",
      "original procedure data size: (2385408, 25)\n",
      "original med data size: (1641113, 49)\n"
     ]
    },
    {
     "name": "stderr",
     "output_type": "stream",
     "text": [
      "/usr/lib64/python2.7/multiprocessing/process.py:114: DtypeWarning: Columns (19,27,31,32,33,35,36,38) have mixed types. Specify dtype option on import or set low_memory=False.\n",
      "  self._target(*self._args, **self._kwargs)\n"
     ]
    },
    {
     "name": "stdout",
     "output_type": "stream",
     "text": [
      "numeber of original patients: 10000\n",
      "original lab data size: (12908154, 29)\n",
      "original procedure data size: (2107425, 25)\n",
      "original med data size: (1597948, 49)\n"
     ]
    },
    {
     "name": "stderr",
     "output_type": "stream",
     "text": [
      "/usr/lib64/python2.7/multiprocessing/process.py:114: DtypeWarning: Columns (19,27,31,35,36,38) have mixed types. Specify dtype option on import or set low_memory=False.\n",
      "  self._target(*self._args, **self._kwargs)\n"
     ]
    },
    {
     "name": "stdout",
     "output_type": "stream",
     "text": [
      "numeber of original patients: 11291\n",
      "original lab data size: (14572809, 29)\n",
      "original procedure data size: (2509280, 25)\n",
      "original med data size: (1474703, 49)\n"
     ]
    },
    {
     "name": "stderr",
     "output_type": "stream",
     "text": [
      "/usr/lib64/python2.7/multiprocessing/process.py:114: DtypeWarning: Columns (19,27,31,32,33,35,36,38) have mixed types. Specify dtype option on import or set low_memory=False.\n",
      "  self._target(*self._args, **self._kwargs)\n"
     ]
    },
    {
     "name": "stdout",
     "output_type": "stream",
     "text": [
      "numeber of original patients: 6612\n",
      "original lab data size: (13780193, 29)\n",
      "original procedure data size: (2325550, 25)\n",
      "original med data size: (1422608, 49)\n"
     ]
    },
    {
     "name": "stderr",
     "output_type": "stream",
     "text": [
      "/usr/lib64/python2.7/multiprocessing/process.py:114: DtypeWarning: Columns (19,27,31,35) have mixed types. Specify dtype option on import or set low_memory=False.\n",
      "  self._target(*self._args, **self._kwargs)\n"
     ]
    },
    {
     "name": "stdout",
     "output_type": "stream",
     "text": [
      "numeber of original patients: 24253\n",
      "original lab data size: (14855786, 29)\n",
      "original procedure data size: (2901720, 25)\n",
      "original med data size: (1964064, 49)\n"
     ]
    },
    {
     "name": "stderr",
     "output_type": "stream",
     "text": [
      "/usr/lib64/python2.7/multiprocessing/process.py:114: DtypeWarning: Columns (19,27,31,32,33,35,36) have mixed types. Specify dtype option on import or set low_memory=False.\n",
      "  self._target(*self._args, **self._kwargs)\n"
     ]
    },
    {
     "name": "stdout",
     "output_type": "stream",
     "text": [
      "numeber of original patients: 13822\n",
      "original lab data size: (14289205, 29)\n",
      "original procedure data size: (2402221, 25)\n",
      "original med data size: (1708916, 49)\n",
      "616 done\n",
      "669 done\n",
      "257 done\n",
      "303 done\n",
      "305 done\n",
      "608 done\n",
      "623 done\n",
      "307 done\n",
      "626 done\n",
      "296 done\n",
      "309 done\n",
      "607 done\n",
      "300 done\n"
     ]
    },
    {
     "name": "stderr",
     "output_type": "stream",
     "text": [
      "/usr/lib64/python2.7/multiprocessing/process.py:114: DtypeWarning: Columns (6) have mixed types. Specify dtype option on import or set low_memory=False.\n",
      "  self._target(*self._args, **self._kwargs)\n"
     ]
    },
    {
     "name": "stdout",
     "output_type": "stream",
     "text": [
      "294 done\n"
     ]
    },
    {
     "name": "stderr",
     "output_type": "stream",
     "text": [
      "/usr/lib64/python2.7/multiprocessing/process.py:114: DtypeWarning: Columns (15) have mixed types. Specify dtype option on import or set low_memory=False.\n",
      "  self._target(*self._args, **self._kwargs)\n",
      "/usr/lib64/python2.7/multiprocessing/process.py:114: DtypeWarning: Columns (19,27,31,32,33,35,36,38) have mixed types. Specify dtype option on import or set low_memory=False.\n",
      "  self._target(*self._args, **self._kwargs)\n"
     ]
    },
    {
     "name": "stdout",
     "output_type": "stream",
     "text": [
      "numeber of original patients: 33270\n",
      "original lab data size: (42811283, 29)\n",
      "original procedure data size: (7171503, 25)\n",
      "original med data size: (4995165, 49)\n",
      "311 done\n",
      "All case done.\n"
     ]
    }
   ],
   "source": [
    "from multiprocessing import Pool\n",
    "import os\n",
    "print('Parent process %s.' % os.getpid())\n",
    "p = Pool(36)\n",
    "for case in cases:\n",
    "    p.apply_async(gennm, args=(case,))\n",
    "p.close()\n",
    "p.join()\n",
    "print('All case done.')"
   ]
  },
  {
   "cell_type": "code",
   "execution_count": 23,
   "metadata": {
    "scrolled": true
   },
   "outputs": [
    {
     "name": "stderr",
     "output_type": "stream",
     "text": [
      "/usr/lib/python2.7/site-packages/IPython/core/interactiveshell.py:2821: DtypeWarning: Columns (6) have mixed types. Specify dtype option on import or set low_memory=False.\n",
      "  if self.run_code(code, result):\n",
      "/usr/lib/python2.7/site-packages/IPython/core/interactiveshell.py:2821: DtypeWarning: Columns (19,27,31,32,33,35,36) have mixed types. Specify dtype option on import or set low_memory=False.\n",
      "  if self.run_code(code, result):\n"
     ]
    },
    {
     "name": "stdout",
     "output_type": "stream",
     "text": [
      "numeber of original patients: 30027\n",
      "original lab data size: (16264280, 29)\n",
      "original procedure data size: (3029784, 25)\n",
      "original med data size: (1730837, 49)\n"
     ]
    }
   ],
   "source": [
    "sd=Sens_disease(ctr,thr=300)\n",
    "sd.load()\n",
    "sd.add_alt_nm(ifallmapping=True)\n",
    "sd.generate_nm()"
   ]
  },
  {
   "cell_type": "code",
   "execution_count": 90,
   "metadata": {
    "collapsed": true
   },
   "outputs": [],
   "source": [
    "sd.thr=300\n",
    "sd.generate_nm()"
   ]
  },
  {
   "cell_type": "code",
   "execution_count": 82,
   "metadata": {
    "scrolled": true
   },
   "outputs": [
    {
     "name": "stdout",
     "output_type": "stream",
     "text": [
      "46557 46557\n",
      "87908 87908\n",
      "78201 78201\n"
     ]
    }
   ],
   "source": [
    "# unify all the mapping\n",
    "from os.path import join\n",
    "path='/home/data/sensitive_disease/csm/'\n",
    "lab_id_map=pd.Series()\n",
    "pr_id_map=pd.Series()\n",
    "med_id_map=pd.Series()\n",
    "llab=0\n",
    "lpr=0\n",
    "lmed=0\n",
    "for case in cases+[ctr]:\n",
    "    slab=pd.Series.from_csv(join(path,'mapping/{}lab_id_mapping.csv'.format(case)))\n",
    "    spr=pd.Series.from_csv(join(path,'mapping/{}procedure_id_mapping.csv'.format(case)))\n",
    "    smed=pd.Series.from_csv(join(path,'mapping/{}med_id_mapping.csv'.format(case)))\n",
    "    llab+=len(slab)\n",
    "    lpr+=len(spr)\n",
    "    lmed+=len(smed)\n",
    "    lab_id_map=pd.concat([lab_id_map,slab])\n",
    "    pr_id_map=pd.concat([pr_id_map,spr])\n",
    "    med_id_map=pd.concat([med_id_map,smed])\n",
    "print llab,len(lab_id_map)\n",
    "print lpr,len(pr_id_map)\n",
    "print lmed,len(med_id_map)\n",
    "lab=lab_id_map.groupby(level=0).apply(lambda x: min(x,key=len))\n",
    "pr=pr_id_map.groupby(level=0).apply(lambda x: min(x,key=len))\n",
    "med=med_id_map.groupby(level=0).apply(lambda x: min(x,key=len))\n",
    "lab.to_csv(join(path,'mapping/lab_id_mapping.csv'))\n",
    "pr.to_csv(join(path,'mapping/procedure_id_mapping.csv'))\n",
    "med.to_csv(join(path,'mapping/med_id_mapping.csv'))"
   ]
  },
  {
   "cell_type": "code",
   "execution_count": 7,
   "metadata": {
    "collapsed": true,
    "scrolled": true
   },
   "outputs": [],
   "source": [
    "# union all the name set\n",
    "lab_nm_set=pd.Series()\n",
    "pr_nm_set=pd.Series()\n",
    "med_nm_set=pd.Series()\n",
    "for case in cases+[ctr]:\n",
    "    thr=300 if case==ctr else 50\n",
    "    lab_nm_set=pd.Series.from_csv(join(path,'nmset/lab{}_nmset_{}.csv'.format(case,thr))).index | lab_nm_set\n",
    "    pr_nm_set=pd.Series.from_csv(join(path,'nmset/pr{}_nmset_{}.csv'.format(case,thr))).index | pr_nm_set\n",
    "    med_nm_set=pd.Series.from_csv(join(path,'nmset/med{}_nmset_{}.csv'.format(case,thr))).index | med_nm_set\n",
    "save_obj((lab_nm_set,pr_nm_set,med_nm_set),join(path,'nmset/nm_union'))"
   ]
  },
  {
   "cell_type": "code",
   "execution_count": 9,
   "metadata": {},
   "outputs": [
    {
     "name": "stdout",
     "output_type": "stream",
     "text": [
      "451 610 701\n",
      "2213\n"
     ]
    }
   ],
   "source": [
    "print len(lab_nm_set),len(pr_nm_set),len(med_nm_set)\n",
    "print len(lab_nm_set)*2+len(pr_nm_set)+len(med_nm_set)"
   ]
  },
  {
   "cell_type": "code",
   "execution_count": 9,
   "metadata": {
    "collapsed": true
   },
   "outputs": [],
   "source": [
    "#generate feature matrix\n",
    "from SD import *\n",
    "sds=[]\n",
    "for case in cases:\n",
    "    sd=Sens_disease(case)\n",
    "    sd.load(onlyuse=True)\n",
    "    sd.generate_feamat(ifallctr=True)\n",
    "    sds.append(sd)"
   ]
  },
  {
   "cell_type": "code",
   "execution_count": 3,
   "metadata": {
    "collapsed": true
   },
   "outputs": [],
   "source": [
    "# concat all the feamat\n",
    "allfea=[]\n",
    "for case in cases:\n",
    "    case_fea=pd.DataFrame.from_csv(join(path,'fea_mat/fea{}_allother_50.csv'.format(case)))\n",
    "    allfea.append(case_fea)\n",
    "ctr_fea=pd.DataFrame.from_csv(join(path,'fea_mat/feactrl_dx_match_allother_300.csv'))\n",
    "allfea.append(ctr_fea)\n",
    "allfeamat=pd.concat(allfea).fillna(value=0)    \n",
    "allfea_nodup=allfeamat.reset_index().drop_duplicates(subset=['person_id']).set_index('person_id')"
   ]
  },
  {
   "cell_type": "code",
   "execution_count": 4,
   "metadata": {},
   "outputs": [
    {
     "name": "stdout",
     "output_type": "stream",
     "text": [
      "(150747, 2213)\n",
      "(209692, 2213)\n"
     ]
    }
   ],
   "source": [
    "print allfea_nodup.shape\n",
    "print allfeamat.shape"
   ]
  },
  {
   "cell_type": "code",
   "execution_count": 7,
   "metadata": {
    "collapsed": true
   },
   "outputs": [],
   "source": [
    "sds=[]\n",
    "def classify(case):\n",
    "    print 'classification for case',case\n",
    "    sd=Sens_disease(case)\n",
    "    sd.pid=pd.DataFrame.from_csv(join(path,'fea_mat/fea{}_allother_50.csv'.format(case))).index\n",
    "    sd.fea_mat=allfea_nodup\n",
    "    sd.ctr='allother'\n",
    "    sd.X=allfea_nodup.as_matrix()\n",
    "    sd.y=np.array([int(x in sd.pid) for x in allfea_nodup.index])\n",
    "    \n",
    "    \n",
    "    sd.get_fea_sc(svtype='allctrl_union')\n",
    "    sd.classify_LR(svtype='allctrl_union')\n",
    "    sds.append(sd)\n",
    "    print case,'classification done'"
   ]
  },
  {
   "cell_type": "code",
   "execution_count": 5,
   "metadata": {
    "collapsed": true
   },
   "outputs": [],
   "source": [
    "sds=[]\n",
    "for case in cases+[ctr]:\n",
    "    thr=300 if case==ctr else 50\n",
    "    sd=Sens_disease(case,thr=thr)\n",
    "    sd.get_nm_set()\n",
    "    sd.pid=pd.DataFrame.from_csv(join(path,'fea_mat/fea{}_allother_50.csv'.format(case))).index\n",
    "    sds.append(sd)"
   ]
  },
  {
   "cell_type": "code",
   "execution_count": 66,
   "metadata": {},
   "outputs": [
    {
     "name": "stdout",
     "output_type": "stream",
     "text": [
      "2181 1280\n",
      "1280\n",
      "2181\n"
     ]
    }
   ],
   "source": [
    "print ctrfeaset.size,curfeaset.size\n",
    "print 255*2+314+456\n",
    "print 447*2+600+687"
   ]
  },
  {
   "cell_type": "code",
   "execution_count": 12,
   "metadata": {},
   "outputs": [
    {
     "data": {
      "text/plain": [
       "(150747, 2213)"
      ]
     },
     "execution_count": 12,
     "metadata": {},
     "output_type": "execute_result"
    }
   ],
   "source": [
    "allfea_nodup.shape"
   ]
  },
  {
   "cell_type": "code",
   "execution_count": 21,
   "metadata": {
    "scrolled": true
   },
   "outputs": [
    {
     "name": "stdout",
     "output_type": "stream",
     "text": [
      "classification for case 257\n",
      "classification for case 294\n",
      "classification for case 296\n",
      "classification for case 300\n",
      "classification for case 303\n",
      "classification for case 305\n",
      "classification for case 307\n",
      "classification for case 309\n",
      "classification for case 311\n",
      "classification for case 607\n",
      "classification for case 608\n",
      "classification for case 616\n",
      "classification for case 623\n",
      "classification for case 626\n",
      "classification for case 628\n",
      "classification for case 632\n",
      "classification for case 640\n",
      "classification for case 642\n",
      "classification for case 644\n",
      "classification for case 646\n",
      "classification for case 648\n",
      "classification for case 650\n",
      "classification for case 652\n",
      "classification for case 654\n",
      "classification for case 655\n",
      "classification for case 656\n",
      "classification for case 658\n",
      "classification for case 659\n",
      "classification for case 661\n",
      "classification for case 663\n",
      "classification for case 664\n",
      "classification for case 669\n",
      "classification for case 765\n",
      "classification for case 770\n",
      "classification for case 774\n",
      "classification for case 779\n",
      "classification for case ctrl_dx_match\n"
     ]
    },
    {
     "data": {
      "text/plain": [
       "[None,\n",
       " None,\n",
       " None,\n",
       " None,\n",
       " None,\n",
       " None,\n",
       " None,\n",
       " None,\n",
       " None,\n",
       " None,\n",
       " None,\n",
       " None,\n",
       " None,\n",
       " None,\n",
       " None,\n",
       " None,\n",
       " None,\n",
       " None,\n",
       " None,\n",
       " None,\n",
       " None,\n",
       " None,\n",
       " None,\n",
       " None,\n",
       " None,\n",
       " None,\n",
       " None,\n",
       " None,\n",
       " None,\n",
       " None,\n",
       " None,\n",
       " None,\n",
       " None,\n",
       " None,\n",
       " None,\n",
       " None,\n",
       " None]"
      ]
     },
     "execution_count": 21,
     "metadata": {},
     "output_type": "execute_result"
    }
   ],
   "source": [
    "[classify_part(sd) for sd in sds] "
   ]
  },
  {
   "cell_type": "code",
   "execution_count": 16,
   "metadata": {},
   "outputs": [
    {
     "data": {
      "text/plain": [
       "([0.73900015154354848,\n",
       "  0.57066033016508244,\n",
       "  0.64391636373708827,\n",
       "  0.94935132210187434],)"
      ]
     },
     "execution_count": 16,
     "metadata": {},
     "output_type": "execute_result"
    }
   ],
   "source": [
    "zip(*sds[0].r)[0]"
   ]
  },
  {
   "cell_type": "code",
   "execution_count": 20,
   "metadata": {
    "collapsed": true
   },
   "outputs": [],
   "source": [
    "\n",
    "def classify_part(sd):\n",
    "    print 'classification for case',sd.disease\n",
    "    curfeaset=('Lab_high_'+sd.lab_nm_set)|('Lab_low_'+sd.lab_nm_set)|('Procedure_'+sd.pr_nm_set)|('Med_'+sd.med_nm_set)\n",
    "    ctr_lab=pd.Index([])\n",
    "    ctr_pr=pd.Index([])\n",
    "    ctr_med=pd.Index([])\n",
    "    for d in sds:\n",
    "        if d!=sd:\n",
    "            ctr_lab |=d.lab_nm_set \n",
    "            ctr_pr |=d.pr_nm_set\n",
    "            ctr_med |=d.med_nm_set\n",
    "    ctrfeaset=('Lab_high_'+ctr_lab)|('Lab_low_'+ctr_lab)|('Procedure_'+ctr_pr)|('Med_'+ctr_med)\n",
    "    with open(join(path,'results/featurenumber.txt'),'a') as f:\n",
    "        print >>f,sd.disease,len(curfeaset),len(ctrfeaset),len(ctrfeaset & curfeaset),len(ctrfeaset | curfeaset)\n",
    "#     sd.y=np.array([int(x in sd.pid) for x in allfea_nodup.index])\n",
    "#     sd.ctr='allother'\n",
    "#     sd.fea_mat=allfea_nodup[ctrfeaset]    \n",
    "#     sd.X=sd.fea_mat.as_matrix()\n",
    "        \n",
    "#     sd.get_fea_sc(svtype='allctrl_control')\n",
    "#     sd.classify_LR(svtype='allctrl_control')\n",
    "#     print sd.disease,'control classification done'\n",
    "    \n",
    "#     sd.fea_mat=allfea_nodup[ctrfeaset & curfeaset]    \n",
    "#     sd.X=sd.fea_mat.as_matrix()\n",
    "        \n",
    "#     sd.get_fea_sc(svtype='allctrl_intersect')\n",
    "#     sd.classify_LR(svtype='allctrl_intersect')\n",
    "#     print sd.disease,'intersect classification done'\n",
    "    \n",
    "#     sd.fea_mat=allfea_nodup[ctrfeaset | curfeaset]    \n",
    "#     sd.X=sd.fea_mat.as_matrix()\n",
    "        \n",
    "#     sd.get_fea_sc(svtype='allctrl_union')\n",
    "#     sd.classify_LR(allk=[0],svtype='allctrl_union')\n",
    "#     print case,'union classification done'\n",
    "    "
   ]
  },
  {
   "cell_type": "code",
   "execution_count": 15,
   "metadata": {},
   "outputs": [
    {
     "data": {
      "text/plain": [
       "48"
      ]
     },
     "execution_count": 15,
     "metadata": {},
     "output_type": "execute_result"
    }
   ],
   "source": [
    "import multiprocessing\n",
    "\n",
    "multiprocessing.cpu_count()"
   ]
  },
  {
   "cell_type": "code",
   "execution_count": 17,
   "metadata": {
    "scrolled": true
   },
   "outputs": [
    {
     "name": "stdout",
     "output_type": "stream",
     "text": [
      "Parent process 187633.\n",
      "classification for case 257\n",
      "classification for case 294\n",
      "classification for case 296\n",
      "classification for case 300\n",
      "classification for case 303\n",
      "classification for case 305\n",
      "classification for case 307\n",
      "classification for case 309\n",
      "classification for case 311\n",
      "classification for case 607\n",
      "classification for case 608\n",
      "classification for case 616\n",
      "classification for case 623\n",
      "classification for case 626\n",
      "classification for case 628\n",
      "classification for case 632\n",
      "classification for case 640\n",
      "classification for case 642\n",
      "ctrl_dx_match control classification done\n",
      "ctrl_dx_match control classification done\n",
      "ctrl_dx_match control classification done\n",
      "ctrl_dx_match control classification done\n",
      "ctrl_dx_match control classification done\n",
      "ctrl_dx_match control classification done\n",
      "ctrl_dx_match control classification done\n",
      "ctrl_dx_match control classification done\n",
      "ctrl_dx_match control classification done\n",
      "ctrl_dx_match control classification done\n",
      "ctrl_dx_match control classification done\n",
      "ctrl_dx_match control classification done\n",
      "ctrl_dx_match control classification done\n",
      "ctrl_dx_match control classification done\n",
      "ctrl_dx_match control classification done\n",
      "ctrl_dx_match control classification done\n",
      "ctrl_dx_match control classification done\n",
      "ctrl_dx_match control classification done\n"
     ]
    },
    {
     "name": "stderr",
     "output_type": "stream",
     "text": [
      "/usr/lib64/python2.7/site-packages/sklearn/metrics/classification.py:1113: UndefinedMetricWarning: Precision is ill-defined and being set to 0.0 due to no predicted samples.\n",
      "  'precision', 'predicted', average, warn_for)\n",
      "/usr/lib64/python2.7/site-packages/sklearn/metrics/classification.py:1113: UndefinedMetricWarning: F-score is ill-defined and being set to 0.0 due to no predicted samples.\n",
      "  'precision', 'predicted', average, warn_for)\n",
      "/usr/lib64/python2.7/site-packages/sklearn/metrics/classification.py:1113: UndefinedMetricWarning: Precision is ill-defined and being set to 0.0 due to no predicted samples.\n",
      "  'precision', 'predicted', average, warn_for)\n",
      "/usr/lib64/python2.7/site-packages/sklearn/metrics/classification.py:1113: UndefinedMetricWarning: F-score is ill-defined and being set to 0.0 due to no predicted samples.\n",
      "  'precision', 'predicted', average, warn_for)\n",
      "/usr/lib64/python2.7/site-packages/sklearn/metrics/classification.py:1113: UndefinedMetricWarning: Precision is ill-defined and being set to 0.0 due to no predicted samples.\n",
      "  'precision', 'predicted', average, warn_for)\n",
      "/usr/lib64/python2.7/site-packages/sklearn/metrics/classification.py:1113: UndefinedMetricWarning: F-score is ill-defined and being set to 0.0 due to no predicted samples.\n",
      "  'precision', 'predicted', average, warn_for)\n",
      "/usr/lib64/python2.7/site-packages/sklearn/metrics/classification.py:1113: UndefinedMetricWarning: Precision is ill-defined and being set to 0.0 due to no predicted samples.\n",
      "  'precision', 'predicted', average, warn_for)\n",
      "/usr/lib64/python2.7/site-packages/sklearn/metrics/classification.py:1113: UndefinedMetricWarning: F-score is ill-defined and being set to 0.0 due to no predicted samples.\n",
      "  'precision', 'predicted', average, warn_for)\n"
     ]
    },
    {
     "name": "stdout",
     "output_type": "stream",
     "text": [
      "ctrl_dx_match intersect classification done\n",
      "classification for case 644\n",
      "ctrl_dx_match intersect classification done\n",
      "classification for case 646\n",
      "ctrl_dx_match intersect classification done\n",
      "classification for case 648\n",
      "ctrl_dx_match intersect classification done\n",
      "classification for case 650\n"
     ]
    },
    {
     "name": "stderr",
     "output_type": "stream",
     "text": [
      "/usr/lib64/python2.7/site-packages/sklearn/metrics/classification.py:1113: UndefinedMetricWarning: Precision is ill-defined and being set to 0.0 due to no predicted samples.\n",
      "  'precision', 'predicted', average, warn_for)\n",
      "/usr/lib64/python2.7/site-packages/sklearn/metrics/classification.py:1113: UndefinedMetricWarning: F-score is ill-defined and being set to 0.0 due to no predicted samples.\n",
      "  'precision', 'predicted', average, warn_for)\n"
     ]
    },
    {
     "name": "stdout",
     "output_type": "stream",
     "text": [
      "ctrl_dx_match intersect classification done\n",
      "classification for case 652\n"
     ]
    },
    {
     "name": "stderr",
     "output_type": "stream",
     "text": [
      "/usr/lib64/python2.7/site-packages/sklearn/metrics/classification.py:1113: UndefinedMetricWarning: Precision is ill-defined and being set to 0.0 due to no predicted samples.\n",
      "  'precision', 'predicted', average, warn_for)\n",
      "/usr/lib64/python2.7/site-packages/sklearn/metrics/classification.py:1113: UndefinedMetricWarning: F-score is ill-defined and being set to 0.0 due to no predicted samples.\n",
      "  'precision', 'predicted', average, warn_for)\n",
      "/usr/lib64/python2.7/site-packages/sklearn/metrics/classification.py:1113: UndefinedMetricWarning: Precision is ill-defined and being set to 0.0 due to no predicted samples.\n",
      "  'precision', 'predicted', average, warn_for)\n",
      "/usr/lib64/python2.7/site-packages/sklearn/metrics/classification.py:1113: UndefinedMetricWarning: F-score is ill-defined and being set to 0.0 due to no predicted samples.\n",
      "  'precision', 'predicted', average, warn_for)\n"
     ]
    },
    {
     "name": "stdout",
     "output_type": "stream",
     "text": [
      "ctrl_dx_match intersect classification done\n",
      "classification for case 654\n"
     ]
    },
    {
     "name": "stderr",
     "output_type": "stream",
     "text": [
      "/usr/lib64/python2.7/site-packages/sklearn/metrics/classification.py:1113: UndefinedMetricWarning: Precision is ill-defined and being set to 0.0 due to no predicted samples.\n",
      "  'precision', 'predicted', average, warn_for)\n",
      "/usr/lib64/python2.7/site-packages/sklearn/metrics/classification.py:1113: UndefinedMetricWarning: F-score is ill-defined and being set to 0.0 due to no predicted samples.\n",
      "  'precision', 'predicted', average, warn_for)\n"
     ]
    },
    {
     "name": "stdout",
     "output_type": "stream",
     "text": [
      "ctrl_dx_match intersect classification done\n",
      "classification for case 655\n"
     ]
    },
    {
     "name": "stderr",
     "output_type": "stream",
     "text": [
      "/usr/lib64/python2.7/site-packages/sklearn/metrics/classification.py:1113: UndefinedMetricWarning: Precision is ill-defined and being set to 0.0 due to no predicted samples.\n",
      "  'precision', 'predicted', average, warn_for)\n",
      "/usr/lib64/python2.7/site-packages/sklearn/metrics/classification.py:1113: UndefinedMetricWarning: F-score is ill-defined and being set to 0.0 due to no predicted samples.\n",
      "  'precision', 'predicted', average, warn_for)\n"
     ]
    },
    {
     "name": "stdout",
     "output_type": "stream",
     "text": [
      "ctrl_dx_match intersect classification done\n",
      "classification for case 656\n",
      "ctrl_dx_match intersect classification done\n",
      "classification for case 658\n"
     ]
    },
    {
     "name": "stderr",
     "output_type": "stream",
     "text": [
      "/usr/lib64/python2.7/site-packages/sklearn/metrics/classification.py:1113: UndefinedMetricWarning: Precision is ill-defined and being set to 0.0 due to no predicted samples.\n",
      "  'precision', 'predicted', average, warn_for)\n",
      "/usr/lib64/python2.7/site-packages/sklearn/metrics/classification.py:1113: UndefinedMetricWarning: F-score is ill-defined and being set to 0.0 due to no predicted samples.\n",
      "  'precision', 'predicted', average, warn_for)\n"
     ]
    },
    {
     "name": "stdout",
     "output_type": "stream",
     "text": [
      "ctrl_dx_match intersect classification done\n",
      "classification for case 659\n"
     ]
    },
    {
     "name": "stderr",
     "output_type": "stream",
     "text": [
      "/usr/lib64/python2.7/site-packages/sklearn/metrics/classification.py:1113: UndefinedMetricWarning: Precision is ill-defined and being set to 0.0 due to no predicted samples.\n",
      "  'precision', 'predicted', average, warn_for)\n",
      "/usr/lib64/python2.7/site-packages/sklearn/metrics/classification.py:1113: UndefinedMetricWarning: F-score is ill-defined and being set to 0.0 due to no predicted samples.\n",
      "  'precision', 'predicted', average, warn_for)\n"
     ]
    },
    {
     "name": "stdout",
     "output_type": "stream",
     "text": [
      "ctrl_dx_match intersect classification done\n",
      "classification for case 661\n"
     ]
    },
    {
     "name": "stderr",
     "output_type": "stream",
     "text": [
      "/usr/lib64/python2.7/site-packages/sklearn/metrics/classification.py:1113: UndefinedMetricWarning: Precision is ill-defined and being set to 0.0 due to no predicted samples.\n",
      "  'precision', 'predicted', average, warn_for)\n",
      "/usr/lib64/python2.7/site-packages/sklearn/metrics/classification.py:1113: UndefinedMetricWarning: F-score is ill-defined and being set to 0.0 due to no predicted samples.\n",
      "  'precision', 'predicted', average, warn_for)\n",
      "/usr/lib64/python2.7/site-packages/sklearn/metrics/classification.py:1113: UndefinedMetricWarning: Precision is ill-defined and being set to 0.0 due to no predicted samples.\n",
      "  'precision', 'predicted', average, warn_for)\n",
      "/usr/lib64/python2.7/site-packages/sklearn/metrics/classification.py:1113: UndefinedMetricWarning: F-score is ill-defined and being set to 0.0 due to no predicted samples.\n",
      "  'precision', 'predicted', average, warn_for)\n"
     ]
    },
    {
     "name": "stdout",
     "output_type": "stream",
     "text": [
      "ctrl_dx_match intersect classification done\n",
      "classification for case 663\n",
      "ctrl_dx_match intersect classification done\n",
      "classification for case 664\n"
     ]
    },
    {
     "name": "stderr",
     "output_type": "stream",
     "text": [
      "/usr/lib64/python2.7/site-packages/sklearn/metrics/classification.py:1113: UndefinedMetricWarning: Precision is ill-defined and being set to 0.0 due to no predicted samples.\n",
      "  'precision', 'predicted', average, warn_for)\n",
      "/usr/lib64/python2.7/site-packages/sklearn/metrics/classification.py:1113: UndefinedMetricWarning: F-score is ill-defined and being set to 0.0 due to no predicted samples.\n",
      "  'precision', 'predicted', average, warn_for)\n"
     ]
    },
    {
     "name": "stdout",
     "output_type": "stream",
     "text": [
      "ctrl_dx_match intersect classification done\n",
      "classification for case 669\n",
      "ctrl_dx_match intersect classification done\n",
      "classification for case 765\n",
      "ctrl_dx_match intersect classification done\n",
      "classification for case 770\n",
      "ctrl_dx_match intersect classification done\n",
      "classification for case 774\n",
      "ctrl_dx_match intersect classification done\n",
      "classification for case 779\n",
      "ctrl_dx_match control classification done\n",
      "ctrl_dx_match control classification done\n",
      "ctrl_dx_match control classification done\n",
      "ctrl_dx_match control classification done\n",
      "ctrl_dx_match control classification done\n",
      "ctrl_dx_match control classification done\n",
      "ctrl_dx_match control classification done\n",
      "ctrl_dx_match control classification done\n",
      "ctrl_dx_match control classification done\n",
      "ctrl_dx_match control classification done\n",
      "ctrl_dx_match control classification done\n",
      "ctrl_dx_match control classification done\n",
      "ctrl_dx_match control classification done\n",
      "ctrl_dx_match intersect classification done\n",
      "ctrl_dx_match control classification done\n",
      "ctrl_dx_match control classification done\n",
      "ctrl_dx_match control classification done\n",
      "ctrl_dx_match intersect classification done\n",
      "ctrl_dx_match intersect classification done\n",
      "ctrl_dx_match intersect classification done\n",
      "ctrl_dx_match control classification done\n",
      "ctrl_dx_match control classification done\n",
      "ctrl_dx_match intersect classification done\n"
     ]
    },
    {
     "name": "stderr",
     "output_type": "stream",
     "text": [
      "/usr/lib64/python2.7/site-packages/sklearn/metrics/classification.py:1113: UndefinedMetricWarning: Precision is ill-defined and being set to 0.0 due to no predicted samples.\n",
      "  'precision', 'predicted', average, warn_for)\n",
      "/usr/lib64/python2.7/site-packages/sklearn/metrics/classification.py:1113: UndefinedMetricWarning: F-score is ill-defined and being set to 0.0 due to no predicted samples.\n",
      "  'precision', 'predicted', average, warn_for)\n"
     ]
    },
    {
     "name": "stdout",
     "output_type": "stream",
     "text": [
      "ctrl_dx_match intersect classification done\n",
      "ctrl_dx_match intersect classification done\n",
      "ctrl_dx_match intersect classification done\n"
     ]
    },
    {
     "name": "stderr",
     "output_type": "stream",
     "text": [
      "/usr/lib64/python2.7/site-packages/sklearn/metrics/classification.py:1113: UndefinedMetricWarning: Precision is ill-defined and being set to 0.0 due to no predicted samples.\n",
      "  'precision', 'predicted', average, warn_for)\n",
      "/usr/lib64/python2.7/site-packages/sklearn/metrics/classification.py:1113: UndefinedMetricWarning: F-score is ill-defined and being set to 0.0 due to no predicted samples.\n",
      "  'precision', 'predicted', average, warn_for)\n"
     ]
    },
    {
     "name": "stdout",
     "output_type": "stream",
     "text": [
      "ctrl_dx_match intersect classification done\n",
      "ctrl_dx_match intersect classification done\n",
      "ctrl_dx_match intersect classification done\n",
      "ctrl_dx_match intersect classification done\n",
      "ctrl_dx_match intersect classification done\n",
      "ctrl_dx_match intersect classification done\n",
      "ctrl_dx_match intersect classification done\n"
     ]
    },
    {
     "name": "stderr",
     "output_type": "stream",
     "text": [
      "/usr/lib64/python2.7/site-packages/sklearn/metrics/classification.py:1113: UndefinedMetricWarning: Precision is ill-defined and being set to 0.0 due to no predicted samples.\n",
      "  'precision', 'predicted', average, warn_for)\n",
      "/usr/lib64/python2.7/site-packages/sklearn/metrics/classification.py:1113: UndefinedMetricWarning: F-score is ill-defined and being set to 0.0 due to no predicted samples.\n",
      "  'precision', 'predicted', average, warn_for)\n"
     ]
    },
    {
     "name": "stdout",
     "output_type": "stream",
     "text": [
      "ctrl_dx_match intersect classification done\n"
     ]
    },
    {
     "name": "stderr",
     "output_type": "stream",
     "text": [
      "/usr/lib64/python2.7/site-packages/sklearn/metrics/classification.py:1113: UndefinedMetricWarning: Precision is ill-defined and being set to 0.0 due to no predicted samples.\n",
      "  'precision', 'predicted', average, warn_for)\n",
      "/usr/lib64/python2.7/site-packages/sklearn/metrics/classification.py:1113: UndefinedMetricWarning: F-score is ill-defined and being set to 0.0 due to no predicted samples.\n",
      "  'precision', 'predicted', average, warn_for)\n"
     ]
    },
    {
     "name": "stdout",
     "output_type": "stream",
     "text": [
      "ctrl_dx_match intersect classification done\n",
      "ctrl_dx_match intersect classification done\n",
      "All case done.\n"
     ]
    }
   ],
   "source": [
    "from multiprocessing import Pool\n",
    "import os\n",
    "print('Parent process %s.' % os.getpid())\n",
    "p = Pool(18)\n",
    "for sd in sds[:-1]:\n",
    "    p.apply_async(classify_part, args=(sd,))\n",
    "p.close()\n",
    "p.join()\n",
    "print('All case done.')"
   ]
  },
  {
   "cell_type": "code",
   "execution_count": 24,
   "metadata": {
    "collapsed": true
   },
   "outputs": [],
   "source": [
    "def testsd(sd):\n",
    "    print len(sds),sd.disease"
   ]
  },
  {
   "cell_type": "code",
   "execution_count": 26,
   "metadata": {},
   "outputs": [
    {
     "name": "stdout",
     "output_type": "stream",
     "text": [
      "36 294\n"
     ]
    }
   ],
   "source": [
    "testsd(sds[1])"
   ]
  },
  {
   "cell_type": "code",
   "execution_count": 11,
   "metadata": {
    "collapsed": true
   },
   "outputs": [
    {
     "data": {
      "text/plain": [
       "[257,\n",
       " 294,\n",
       " 296,\n",
       " 300,\n",
       " 303,\n",
       " 305,\n",
       " 307,\n",
       " 309,\n",
       " 311,\n",
       " 607,\n",
       " 608,\n",
       " 616,\n",
       " 623,\n",
       " 626,\n",
       " 628,\n",
       " 632,\n",
       " 640,\n",
       " 642,\n",
       " 644,\n",
       " 646,\n",
       " 648,\n",
       " 650,\n",
       " 652,\n",
       " 654,\n",
       " 655,\n",
       " 656,\n",
       " 658,\n",
       " 659,\n",
       " 661,\n",
       " 663,\n",
       " 664,\n",
       " 669,\n",
       " 765,\n",
       " 770,\n",
       " 774,\n",
       " 779,\n",
       " 'ctrl_dx_match']"
      ]
     },
     "execution_count": 11,
     "metadata": {},
     "output_type": "execute_result"
    }
   ],
   "source": [
    "[x.disease for x in sds[:]]"
   ]
  },
  {
   "cell_type": "code",
   "execution_count": 46,
   "metadata": {
    "collapsed": true
   },
   "outputs": [],
   "source": [
    "sd.fea_mat=allfea_nodup\n",
    "sd.ctr='allother'\n",
    "sd.get_fea_sc(svtype='allctrl_union')"
   ]
  },
  {
   "cell_type": "code",
   "execution_count": 28,
   "metadata": {
    "collapsed": true
   },
   "outputs": [],
   "source": [
    "sd.y=np.array([x in sd.pid for x in allfea_nodup.index],dtype=np.int64)"
   ]
  },
  {
   "cell_type": "code",
   "execution_count": null,
   "metadata": {},
   "outputs": [],
   "source": [
    "1"
   ]
  },
  {
   "cell_type": "code",
   "execution_count": 13,
   "metadata": {},
   "outputs": [
    {
     "name": "stdout",
     "output_type": "stream",
     "text": [
      "209692\n",
      "(209692, 2213)\n"
     ]
    }
   ],
   "source": [
    "print sum([x.curfea.shape[0] for x in sds]+[ctr_fea.shape[0]])\n",
    "print allfeamat.shape"
   ]
  },
  {
   "cell_type": "code",
   "execution_count": 3,
   "metadata": {},
   "outputs": [
    {
     "data": {
      "text/plain": [
       "150747"
      ]
     },
     "execution_count": 3,
     "metadata": {},
     "output_type": "execute_result"
    }
   ],
   "source": [
    "allfeamat.index.unique().size"
   ]
  },
  {
   "cell_type": "code",
   "execution_count": 6,
   "metadata": {},
   "outputs": [
    {
     "name": "stdout",
     "output_type": "stream",
     "text": [
      "(209692, 2213)\n",
      "(150747, 2213)\n"
     ]
    }
   ],
   "source": [
    "print allfeamat.shape\n",
    "print allfea_nodup.shape"
   ]
  },
  {
   "cell_type": "code",
   "execution_count": 14,
   "metadata": {
    "collapsed": true
   },
   "outputs": [],
   "source": [
    "allfea_nodup=allfeamat.reset_index().drop_duplicates(subset=['person_id']).set_index('person_id')"
   ]
  },
  {
   "cell_type": "code",
   "execution_count": 43,
   "metadata": {},
   "outputs": [
    {
     "data": {
      "text/plain": [
       "(150747, 2213)"
      ]
     },
     "execution_count": 43,
     "metadata": {},
     "output_type": "execute_result"
    }
   ],
   "source": [
    "allfea_nodup.shape"
   ]
  },
  {
   "cell_type": "code",
   "execution_count": 4,
   "metadata": {
    "collapsed": true
   },
   "outputs": [],
   "source": [
    "nmlen=[]\n",
    "for case in cases:\n",
    "    lab_nm_set=pd.Series.from_csv(join(path,'nmset/lab{}_nmset_{}.csv'.format(case,50))).index\n",
    "    pr_nm_set=pd.Series.from_csv(join(path,'nmset/pr{}_nmset_{}.csv'.format(case,50))).index \n",
    "    med_nm_set=pd.Series.from_csv(join(path,'nmset/med{}_nmset_{}.csv'.format(case,50))).index \n",
    "    nmlen.append([len(lab_nm_set),len(pr_nm_set),len(med_nm_set)])"
   ]
  },
  {
   "cell_type": "code",
   "execution_count": 9,
   "metadata": {},
   "outputs": [
    {
     "data": {
      "text/plain": [
       "[191, 226, 334]"
      ]
     },
     "execution_count": 9,
     "metadata": {},
     "output_type": "execute_result"
    }
   ],
   "source": [
    "lab_nm_set=pd.Series.from_csv(join(path,'nmset/lab{}_nmset_{}.csv'.format(ctr,300))).index\n",
    "pr_nm_set=pd.Series.from_csv(join(path,'nmset/pr{}_nmset_{}.csv'.format(ctr,300))).index \n",
    "med_nm_set=pd.Series.from_csv(join(path,'nmset/med{}_nmset_{}.csv'.format(ctr,300))).index \n",
    "[len(lab_nm_set),len(pr_nm_set),len(med_nm_set)]"
   ]
  }
 ],
 "metadata": {
  "kernelspec": {
   "display_name": "Python 2",
   "language": "python",
   "name": "python2"
  },
  "language_info": {
   "codemirror_mode": {
    "name": "ipython",
    "version": 2
   },
   "file_extension": ".py",
   "mimetype": "text/x-python",
   "name": "python",
   "nbconvert_exporter": "python",
   "pygments_lexer": "ipython2",
   "version": "2.7.5"
  }
 },
 "nbformat": 4,
 "nbformat_minor": 2
}
